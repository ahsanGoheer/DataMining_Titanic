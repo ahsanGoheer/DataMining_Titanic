{
 "cells": [
  {
   "cell_type": "code",
   "execution_count": 1,
   "metadata": {},
   "outputs": [
    {
     "name": "stderr",
     "output_type": "stream",
     "text": [
      "In C:\\Users\\ahsan\\AppData\\Local\\Programs\\Python\\Python36\\lib\\site-packages\\matplotlib\\mpl-data\\stylelib\\_classic_test.mplstyle: \n",
      "The text.latex.preview rcparam was deprecated in Matplotlib 3.3 and will be removed two minor releases later.\n",
      "In C:\\Users\\ahsan\\AppData\\Local\\Programs\\Python\\Python36\\lib\\site-packages\\matplotlib\\mpl-data\\stylelib\\_classic_test.mplstyle: \n",
      "The mathtext.fallback_to_cm rcparam was deprecated in Matplotlib 3.3 and will be removed two minor releases later.\n",
      "In C:\\Users\\ahsan\\AppData\\Local\\Programs\\Python\\Python36\\lib\\site-packages\\matplotlib\\mpl-data\\stylelib\\_classic_test.mplstyle: Support for setting the 'mathtext.fallback_to_cm' rcParam is deprecated since 3.3 and will be removed two minor releases later; use 'mathtext.fallback : 'cm' instead.\n",
      "In C:\\Users\\ahsan\\AppData\\Local\\Programs\\Python\\Python36\\lib\\site-packages\\matplotlib\\mpl-data\\stylelib\\_classic_test.mplstyle: \n",
      "The validate_bool_maybe_none function was deprecated in Matplotlib 3.3 and will be removed two minor releases later.\n",
      "In C:\\Users\\ahsan\\AppData\\Local\\Programs\\Python\\Python36\\lib\\site-packages\\matplotlib\\mpl-data\\stylelib\\_classic_test.mplstyle: \n",
      "The savefig.jpeg_quality rcparam was deprecated in Matplotlib 3.3 and will be removed two minor releases later.\n",
      "In C:\\Users\\ahsan\\AppData\\Local\\Programs\\Python\\Python36\\lib\\site-packages\\matplotlib\\mpl-data\\stylelib\\_classic_test.mplstyle: \n",
      "The keymap.all_axes rcparam was deprecated in Matplotlib 3.3 and will be removed two minor releases later.\n",
      "In C:\\Users\\ahsan\\AppData\\Local\\Programs\\Python\\Python36\\lib\\site-packages\\matplotlib\\mpl-data\\stylelib\\_classic_test.mplstyle: \n",
      "The animation.avconv_path rcparam was deprecated in Matplotlib 3.3 and will be removed two minor releases later.\n",
      "In C:\\Users\\ahsan\\AppData\\Local\\Programs\\Python\\Python36\\lib\\site-packages\\matplotlib\\mpl-data\\stylelib\\_classic_test.mplstyle: \n",
      "The animation.avconv_args rcparam was deprecated in Matplotlib 3.3 and will be removed two minor releases later.\n"
     ]
    }
   ],
   "source": [
    "import pandas as pd\n",
    "import matplotlib.pyplot as plt\n",
    "import seaborn as sns"
   ]
  },
  {
   "cell_type": "code",
   "execution_count": 2,
   "metadata": {},
   "outputs": [],
   "source": [
    "titanic = pd.read_csv(\"./train.csv\")"
   ]
  },
  {
   "cell_type": "markdown",
   "metadata": {},
   "source": [
    "## Getting Data Information \n"
   ]
  },
  {
   "cell_type": "code",
   "execution_count": 3,
   "metadata": {},
   "outputs": [
    {
     "name": "stdout",
     "output_type": "stream",
     "text": [
      "<class 'pandas.core.frame.DataFrame'>\n",
      "RangeIndex: 891 entries, 0 to 890\n",
      "Data columns (total 12 columns):\n",
      "PassengerId    891 non-null int64\n",
      "Survived       891 non-null int64\n",
      "Pclass         891 non-null int64\n",
      "Name           891 non-null object\n",
      "Sex            891 non-null object\n",
      "Age            714 non-null float64\n",
      "SibSp          891 non-null int64\n",
      "Parch          891 non-null int64\n",
      "Ticket         891 non-null object\n",
      "Fare           891 non-null float64\n",
      "Cabin          204 non-null object\n",
      "Embarked       889 non-null object\n",
      "dtypes: float64(2), int64(5), object(5)\n",
      "memory usage: 83.7+ KB\n"
     ]
    }
   ],
   "source": [
    "titanic.info()"
   ]
  },
  {
   "cell_type": "markdown",
   "metadata": {},
   "source": [
    "The data set has 891 rows and 12 attributes. "
   ]
  },
  {
   "cell_type": "markdown",
   "metadata": {},
   "source": [
    "## Missing Data"
   ]
  },
  {
   "cell_type": "code",
   "execution_count": 4,
   "metadata": {},
   "outputs": [
    {
     "name": "stdout",
     "output_type": "stream",
     "text": [
      "Missing Values in Age: 177\n",
      "Missing Values in Cabin: 687\n",
      "Missing Values in Embarked: 2\n"
     ]
    }
   ],
   "source": [
    "print(\"Missing Values in Age: {}\".format(titanic['PassengerId'].count()-titanic['Age'].count()))\n",
    "print(\"Missing Values in Cabin: {}\".format(titanic['PassengerId'].count()-titanic['Cabin'].count()))\n",
    "print(\"Missing Values in Embarked: {}\".format(titanic['PassengerId'].count()-titanic['Embarked'].count()))"
   ]
  },
  {
   "cell_type": "markdown",
   "metadata": {},
   "source": [
    "## Data Formatting Problems"
   ]
  },
  {
   "cell_type": "markdown",
   "metadata": {},
   "source": [
    "The data is incorrectly formatted for the given attributes. "
   ]
  },
  {
   "cell_type": "code",
   "execution_count": 5,
   "metadata": {},
   "outputs": [
    {
     "data": {
      "text/plain": [
       "0             A/5 21171\n",
       "1              PC 17599\n",
       "2      STON/O2. 3101282\n",
       "3                113803\n",
       "4                373450\n",
       "             ...       \n",
       "886              211536\n",
       "887              112053\n",
       "888          W./C. 6607\n",
       "889              111369\n",
       "890              370376\n",
       "Name: Ticket, Length: 891, dtype: object"
      ]
     },
     "execution_count": 5,
     "metadata": {},
     "output_type": "execute_result"
    }
   ],
   "source": [
    "titanic['Ticket']"
   ]
  },
  {
   "cell_type": "markdown",
   "metadata": {},
   "source": [
    "The Ticket ID has characters like A/5, PC, STON/02 and W./C. appended to random entries but these characters are not present in all entries of the Ticket ID attribute. "
   ]
  },
  {
   "cell_type": "code",
   "execution_count": 6,
   "metadata": {},
   "outputs": [
    {
     "data": {
      "text/plain": [
       "C23 C25 C27    4\n",
       "B96 B98        4\n",
       "G6             4\n",
       "F2             3\n",
       "E101           3\n",
       "              ..\n",
       "C103           1\n",
       "B73            1\n",
       "D21            1\n",
       "D7             1\n",
       "A10            1\n",
       "Name: Cabin, Length: 147, dtype: int64"
      ]
     },
     "execution_count": 6,
     "metadata": {},
     "output_type": "execute_result"
    }
   ],
   "source": [
    "titanic['Cabin'].value_counts()"
   ]
  },
  {
   "cell_type": "markdown",
   "metadata": {},
   "source": [
    "There are Passengers that were allocated more than one cabin."
   ]
  },
  {
   "cell_type": "markdown",
   "metadata": {},
   "source": [
    "## Bar Chart of Passenger Class"
   ]
  },
  {
   "cell_type": "code",
   "execution_count": 7,
   "metadata": {},
   "outputs": [
    {
     "data": {
      "image/png": "[encoded data removed]",
      "text/plain": [
       "<Figure size 720x432 with 1 Axes>"
      ]
     },
     "metadata": {
      "needs_background": "light"
     },
     "output_type": "display_data"
    }
   ],
   "source": [
    "plt.figure(figsize=(10,6))\n",
    "plt.title(\"Bar Chart For Passenger Classes\")\n",
    "sns.countplot(x=titanic['Pclass'],palette=\"Set2\")\n",
    "plt.xlabel(\"Passenger Class\")\n",
    "plt.ylabel(\"Number of Passengers\")\n",
    "plt.show()"
   ]
  },
  {
   "cell_type": "code",
   "execution_count": 8,
   "metadata": {},
   "outputs": [
    {
     "name": "stdout",
     "output_type": "stream",
     "text": [
      "Upper Class  : 216\n",
      "Middle Class : 184\n",
      "Lower Class  : 491\n"
     ]
    }
   ],
   "source": [
    "pclass=titanic['Pclass'].value_counts()\n",
    "print(\"Upper Class  : {}\".format(pclass[1]))\n",
    "print(\"Middle Class : {}\".format(pclass[2]))\n",
    "print(\"Lower Class  : {}\".format(pclass[3]))"
   ]
  },
  {
   "cell_type": "markdown",
   "metadata": {},
   "source": [
    "## Histogram Of Passenger Ages\n"
   ]
  },
  {
   "cell_type": "code",
   "execution_count": 9,
   "metadata": {},
   "outputs": [
    {
     "data": {
      "image/png": "[encoded data removed]",
      "text/plain": [
       "<Figure size 720x432 with 1 Axes>"
      ]
     },
     "metadata": {
      "needs_background": "light"
     },
     "output_type": "display_data"
    }
   ],
   "source": [
    "plt.figure(figsize=(10,6))\n",
    "plt.title(\"Histogram of Ages in Data\")\n",
    "ages=pd.notnull(titanic['Age'])\n",
    "sns.histplot(titanic.Age[ages],color='teal')\n",
    "plt.xlabel(\"Passenger Ages\")\n",
    "plt.ylabel(\"Number of Passengers\")\n",
    "plt.show()"
   ]
  },
  {
   "cell_type": "code",
   "execution_count": 10,
   "metadata": {},
   "outputs": [
    {
     "data": {
      "text/plain": [
       "count    714.000000\n",
       "mean      29.699118\n",
       "std       14.526497\n",
       "min        0.420000\n",
       "25%       20.125000\n",
       "50%       28.000000\n",
       "75%       38.000000\n",
       "max       80.000000\n",
       "Name: Age, dtype: float64"
      ]
     },
     "execution_count": 10,
     "metadata": {},
     "output_type": "execute_result"
    }
   ],
   "source": [
    "age_stats=titanic.Age[ages].describe()\n",
    "age_stats"
   ]
  },
  {
   "cell_type": "code",
   "execution_count": 11,
   "metadata": {},
   "outputs": [
    {
     "name": "stdout",
     "output_type": "stream",
     "text": [
      "Mean Passenger Age : 29\n",
      "Standard Deviation of Passenger Age : 14\n"
     ]
    }
   ],
   "source": [
    "print(\"Mean Passenger Age : {}\".format(int(age_stats['mean'])))\n",
    "print(\"Standard Deviation of Passenger Age : {}\".format(int(age_stats['std'])))"
   ]
  },
  {
   "cell_type": "markdown",
   "metadata": {},
   "source": [
    "## Five Number Summary of Passenger Age"
   ]
  },
  {
   "cell_type": "code",
   "execution_count": 12,
   "metadata": {},
   "outputs": [
    {
     "name": "stdout",
     "output_type": "stream",
     "text": [
      "Minimum Age in Data : 0.42\n",
      "First Quartile (Q1) : 20.125\n",
      "Median         (Q2) : 28.0\n",
      "Third Quartile (Q3) : 38.0\n",
      "Maximum Age in Data : 80.0\n"
     ]
    }
   ],
   "source": [
    "print(\"Minimum Age in Data : {}\".format(age_stats['min']))\n",
    "print(\"First Quartile (Q1) : {}\".format(age_stats['25%']))\n",
    "print(\"Median         (Q2) : {}\".format(age_stats['50%']))\n",
    "print(\"Third Quartile (Q3) : {}\".format(age_stats['75%']))\n",
    "print(\"Maximum Age in Data : {}\".format(age_stats['max']))\n",
    "\n"
   ]
  },
  {
   "cell_type": "markdown",
   "metadata": {},
   "source": [
    "## Box Plot of Passenger Age"
   ]
  },
  {
   "cell_type": "code",
   "execution_count": 13,
   "metadata": {},
   "outputs": [
    {
     "name": "stderr",
     "output_type": "stream",
     "text": [
      "C:\\Users\\ahsan\\AppData\\Local\\Programs\\Python\\Python36\\lib\\site-packages\\seaborn\\_decorators.py:43: FutureWarning: Pass the following variable as a keyword arg: x. From version 0.12, the only valid positional argument will be `data`, and passing other arguments without an explicit keyword will result in an error or misinterpretation.\n",
      "  FutureWarning\n"
     ]
    },
    {
     "data": {
      "image/png": "[encoded data removed]",
      "text/plain": [
       "<Figure size 1080x360 with 1 Axes>"
      ]
     },
     "metadata": {
      "needs_background": "light"
     },
     "output_type": "display_data"
    }
   ],
   "source": [
    "plt.figure(figsize=(15,5))\n",
    "plt.title(\"Box plot of Passenger Ages in Data\")\n",
    "ages=pd.notnull(titanic['Age'])\n",
    "sns.boxplot(titanic.Age[ages])\n",
    "plt.xlabel(\"Passenger Ages\")\n",
    "plt.show()"
   ]
  },
  {
   "cell_type": "markdown",
   "metadata": {},
   "source": [
    "## Parents and Childeren Passengers Data Histogram"
   ]
  },
  {
   "cell_type": "code",
   "execution_count": 73,
   "metadata": {},
   "outputs": [
    {
     "data": {
      "image/png": "[encoded data removed]",
      "text/plain": [
       "<Figure size 864x504 with 1 Axes>"
      ]
     },
     "metadata": {
      "needs_background": "light"
     },
     "output_type": "display_data"
    }
   ],
   "source": [
    "plt.figure(figsize=(12,7))\n",
    "plt.title(\"Number of Passengers with their Corresponding Number of Parents and Children\")\n",
    "sns.histplot(titanic['Parch'],color='b')\n",
    "plt.xlabel(\"Number of Parents/Children\")\n",
    "plt.ylabel(\"Number of Passengers\")\n",
    "plt.show()"
   ]
  },
  {
   "cell_type": "code",
   "execution_count": 77,
   "metadata": {},
   "outputs": [],
   "source": [
    "num_parch=titanic['Parch']\n",
    "num_parch_counts=num_parch.value_counts()"
   ]
  },
  {
   "cell_type": "code",
   "execution_count": 82,
   "metadata": {},
   "outputs": [
    {
     "name": "stdout",
     "output_type": "stream",
     "text": [
      "678  Passengers have 0 parents/children\n",
      "118  Passengers have 1 parents/children\n",
      "80  Passengers have 2 parents/children\n",
      "5  Passengers have 3 parents/children\n",
      "5  Passengers have 4 parents/children\n",
      "4  Passengers have 5 parents/children\n",
      "1  Passengers have 6 parents/children\n"
     ]
    }
   ],
   "source": [
    "\n",
    "for index,num_pc in enumerate(num_parch_counts):\n",
    "    print(\"{}  Passengers have {} parents/children\".format(num_pc,index))"
   ]
  },
  {
   "cell_type": "code",
   "execution_count": 14,
   "metadata": {},
   "outputs": [
    {
     "name": "stdout",
     "output_type": "stream",
     "text": [
      "608  Passengers have 0 siblings/spouse\n",
      "209  Passengers have 1 siblings/spouse\n",
      "28  Passengers have 2 siblings/spouse\n",
      "18  Passengers have 3 siblings/spouse\n",
      "16  Passengers have 4 siblings/spouse\n",
      "7  Passengers have 5 siblings/spouse\n",
      "5  Passengers have 6 siblings/spouse\n"
     ]
    }
   ],
   "source": [
    "num_sibsp=titanic['SibSp']\n",
    "num_sibsp_counts=num_sibsp.value_counts()\n",
    "for index,num_pc in enumerate(num_sibsp_counts):\n",
    "    print(\"{}  Passengers have {} siblings/spouse\".format(num_pc,index))"
   ]
  },
  {
   "cell_type": "code",
   "execution_count": 15,
   "metadata": {},
   "outputs": [
    {
     "name": "stdout",
     "output_type": "stream",
     "text": [
      "644  Passengers have 0 siblings/spouse\n",
      "168  Passengers have 1 siblings/spouse\n",
      "77  Passengers have 2 siblings/spouse\n"
     ]
    }
   ],
   "source": [
    "num_em=titanic['Embarked']\n",
    "c=['S','C','Q']\n",
    "num_em_counts=num_em.value_counts()\n",
    "for index,num_pc in enumerate(num_em_counts):\n",
    "    print(\"{}  Passengers were from {} siblings/spouse\".format(num_pc,c[index]))"
   ]
  },
  {
   "cell_type": "markdown",
   "metadata": {},
   "source": [
    "## Passenger Gender Vs Survival Outcome\n"
   ]
  },
  {
   "cell_type": "code",
   "execution_count": 96,
   "metadata": {},
   "outputs": [
    {
     "name": "stderr",
     "output_type": "stream",
     "text": [
      "c:\\users\\ahsan\\appdata\\local\\programs\\python\\python38-32\\lib\\site-packages\\seaborn\\_decorators.py:36: FutureWarning: Pass the following variable as a keyword arg: x. From version 0.12, the only valid positional argument will be `data`, and passing other arguments without an explicit keyword will result in an error or misinterpretation.\n",
      "  warnings.warn(\n"
     ]
    },
    {
     "data": {
      "image/png": "[encoded data removed]",
      "text/plain": [
       "<Figure size 720x360 with 1 Axes>"
      ]
     },
     "metadata": {
      "needs_background": "light"
     },
     "output_type": "display_data"
    }
   ],
   "source": [
    "survival= titanic[titanic['Survived']==1]\n",
    "survival=survival[pd.notnull(survival['Sex'])]\n",
    "plt.figure(figsize=(10,5))\n",
    "plt.title(\"Passenger Gender vs Survival Outcome\")\n",
    "sns.countplot(survival['Sex'],palette=\"Set1\")\n",
    "plt.xlabel(\"Gender of Passenger\")\n",
    "plt.ylabel(\"Number of Passengers who Survived\")\n",
    "plt.show()"
   ]
  },
  {
   "cell_type": "code",
   "execution_count": 98,
   "metadata": {},
   "outputs": [
    {
     "name": "stdout",
     "output_type": "stream",
     "text": [
      "Number of females who survived: 233\n",
      "Number of males   who survived: 109\n"
     ]
    }
   ],
   "source": [
    "gen_survival=survival[\"Sex\"].value_counts()\n",
    "print(\"Number of females who survived: {}\".format(gen_survival['female']))\n",
    "print(\"Number of males   who survived: {}\".format(gen_survival['male']))"
   ]
  },
  {
   "cell_type": "markdown",
   "metadata": {},
   "source": [
    "## Number of Passengers with Parents and Children who Survived"
   ]
  },
  {
   "cell_type": "code",
   "execution_count": 99,
   "metadata": {},
   "outputs": [
    {
     "name": "stderr",
     "output_type": "stream",
     "text": [
      "c:\\users\\ahsan\\appdata\\local\\programs\\python\\python38-32\\lib\\site-packages\\seaborn\\_decorators.py:36: FutureWarning: Pass the following variable as a keyword arg: x. From version 0.12, the only valid positional argument will be `data`, and passing other arguments without an explicit keyword will result in an error or misinterpretation.\n",
      "  warnings.warn(\n"
     ]
    },
    {
     "data": {
      "image/png": "[encoded data removed]",
      "text/plain": [
       "<Figure size 720x360 with 1 Axes>"
      ]
     },
     "metadata": {
      "needs_background": "light"
     },
     "output_type": "display_data"
    }
   ],
   "source": [
    "survival_pc=survival[pd.notnull(survival['Parch'])]\n",
    "plt.figure(figsize=(10,5))\n",
    "plt.title(\"Passengers with Parents and Childern who Survived\")\n",
    "sns.countplot(survival_pc['Parch'],palette=\"Set3\")\n",
    "plt.xlabel(\"Number of Parents/Children\")\n",
    "plt.ylabel(\"Number of Passengers who Survived\")\n",
    "plt.show()"
   ]
  },
  {
   "cell_type": "code",
   "execution_count": 101,
   "metadata": {},
   "outputs": [
    {
     "data": {
      "text/plain": [
       "0    233\n",
       "1     65\n",
       "2     40\n",
       "3      3\n",
       "5      1\n",
       "Name: Parch, dtype: int64"
      ]
     },
     "execution_count": 101,
     "metadata": {},
     "output_type": "execute_result"
    }
   ],
   "source": [
    "survival_pc_counts=survival_pc['Parch'].value_counts()\n",
    "survival_pc_counts"
   ]
  },
  {
   "cell_type": "code",
   "execution_count": 102,
   "metadata": {},
   "outputs": [
    {
     "name": "stdout",
     "output_type": "stream",
     "text": [
      "Number of Passengers with 0 parents/children who survived : 233\n",
      "Number of Passengers with 1 parents/children who survived : 65\n",
      "Number of Passengers with 2 parents/children who survived : 40\n",
      "Number of Passengers with 3 parents/children who survived : 3\n",
      "Number of Passengers with 4 parents/children who survived : 1\n"
     ]
    }
   ],
   "source": [
    "for index,passengers in enumerate(survival_pc_counts):\n",
    "    print(\"Number of Passengers with {} parents/children who survived : {}\".format(index,passengers))"
   ]
  },
  {
   "cell_type": "code",
   "execution_count": null,
   "metadata": {},
   "outputs": [],
   "source": []
  }
 ],
 "metadata": {
  "kernelspec": {
   "display_name": "Python 3.6.5 64-bit",
   "language": "python",
   "name": "python36564bitc3c3330d99fe449aa5e78915af6adb9d"
  },
  "language_info": {
   "codemirror_mode": {
    "name": "ipython",
    "version": 3
   },
   "file_extension": ".py",
   "mimetype": "text/x-python",
   "name": "python",
   "nbconvert_exporter": "python",
   "pygments_lexer": "ipython3",
   "version": "3.6.5"
  }
 },
 "nbformat": 4,
 "nbformat_minor": 4
}
